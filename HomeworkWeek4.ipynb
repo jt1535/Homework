{
 "cells": [
  {
   "cell_type": "code",
   "execution_count": 3,
   "metadata": {},
   "outputs": [
    {
     "name": "stdout",
     "output_type": "stream",
     "text": [
      "Renting a car is more affordable\n",
      "Renting a car is more affordable\n"
     ]
    }
   ],
   "source": [
    "#1.\n",
    "age = 30\n",
    "if age>=25:\n",
    "    print(\"Renting a car is more affordable\")\n",
    "else:\n",
    "    print(\"Renting a car is very expensive.\")\n",
    "\n",
    "#2\n",
    "if age>=25:\n",
    "    print(\"Renting a car is more affordable\")\n",
    "elif age>=18:\n",
    "    print(\"Renting a car is very expensive\")\n",
    "else:\n",
    "    print(\"You cannot legally rent a car.\")\n"
   ]
  },
  {
   "cell_type": "code",
   "execution_count": 13,
   "metadata": {},
   "outputs": [
    {
     "name": "stdout",
     "output_type": "stream",
     "text": [
      "11\n"
     ]
    }
   ],
   "source": [
    "#3\n",
    "string =(\"The quick brown fox jumps over the lazy dog\")\n",
    "vowels=(\"aeiouAEIOU\")\n",
    "n=0\n",
    "for letter in string:\n",
    "    for vowel in vowels:\n",
    "        if letter==vowel:\n",
    "            n=n+1\n",
    "   \n",
    "print(n)\n"
   ]
  },
  {
   "cell_type": "code",
   "execution_count": 14,
   "metadata": {},
   "outputs": [
    {
     "name": "stdout",
     "output_type": "stream",
     "text": [
      "trousers fuchsia\n",
      "blouse fuchsia\n",
      "bandana fuchsia\n",
      "cumber band fuchsia\n",
      "blazer fuchsia\n",
      "vest fuchsia\n",
      "french beret fuchsia\n",
      "scarf fuchsia\n",
      "stole fuchsia\n",
      "trousers Dark Sapphire\n",
      "blouse Dark Sapphire\n",
      "bandana Dark Sapphire\n",
      "cumber band Dark Sapphire\n",
      "blazer Dark Sapphire\n",
      "vest Dark Sapphire\n",
      "french beret Dark Sapphire\n",
      "scarf Dark Sapphire\n",
      "stole Dark Sapphire\n",
      "trousers gunmetal blue\n",
      "blouse gunmetal blue\n",
      "bandana gunmetal blue\n",
      "cumber band gunmetal blue\n",
      "blazer gunmetal blue\n",
      "vest gunmetal blue\n",
      "french beret gunmetal blue\n",
      "scarf gunmetal blue\n",
      "stole gunmetal blue\n",
      "trousers maple\n",
      "blouse maple\n",
      "bandana maple\n",
      "cumber band maple\n",
      "blazer maple\n",
      "vest maple\n",
      "french beret maple\n",
      "scarf maple\n",
      "stole maple\n",
      "trousers auburn\n",
      "blouse auburn\n",
      "bandana auburn\n",
      "cumber band auburn\n",
      "blazer auburn\n",
      "vest auburn\n",
      "french beret auburn\n",
      "scarf auburn\n",
      "stole auburn\n",
      "trousers burnt sienna\n",
      "blouse burnt sienna\n",
      "bandana burnt sienna\n",
      "cumber band burnt sienna\n",
      "blazer burnt sienna\n",
      "vest burnt sienna\n",
      "french beret burnt sienna\n",
      "scarf burnt sienna\n",
      "stole burnt sienna\n",
      "trousers cerise\n",
      "blouse cerise\n",
      "bandana cerise\n",
      "cumber band cerise\n",
      "blazer cerise\n",
      "vest cerise\n",
      "french beret cerise\n",
      "scarf cerise\n",
      "stole cerise\n",
      "trousers aqua\n",
      "blouse aqua\n",
      "bandana aqua\n",
      "cumber band aqua\n",
      "blazer aqua\n",
      "vest aqua\n",
      "french beret aqua\n",
      "scarf aqua\n",
      "stole aqua\n"
     ]
    }
   ],
   "source": [
    "#4\n",
    "panettone = {\"cerise\", \"fuchsia\", \"aqua\", \"maple\", \"auburn\", \"burnt sienna\", \"gunmetal blue\", \"Dark Sapphire\"}\n",
    "couture = [\"trousers\", \"blouse\", \"bandana\", \"cumber band\", \"blazer\", \"vest\", \"french beret\", \"scarf\", \"stole\"]\n",
    "for tone in panettone:\n",
    "    for cout in couture:\n",
    "        print(cout,tone)"
   ]
  },
  {
   "cell_type": "code",
   "execution_count": 17,
   "metadata": {},
   "outputs": [
    {
     "name": "stdout",
     "output_type": "stream",
     "text": [
      "4950\n"
     ]
    }
   ],
   "source": [
    "#5\n",
    "n=0\n",
    "list=range(100)\n",
    "for i in list:\n",
    "    n=n+i\n",
    "print(n)"
   ]
  },
  {
   "cell_type": "code",
   "execution_count": 18,
   "metadata": {},
   "outputs": [
    {
     "name": "stdout",
     "output_type": "stream",
     "text": [
      "banana\n"
     ]
    }
   ],
   "source": [
    "#6\n",
    "list= [\"apple\", \"banana\", \"cherry\"]\n",
    "print(list[1])"
   ]
  },
  {
   "cell_type": "code",
   "execution_count": 33,
   "metadata": {},
   "outputs": [
    {
     "name": "stdout",
     "output_type": "stream",
     "text": [
      "['kiwi', 'banana', 'cherry']\n",
      "['kiwi', 'banana', 'cherry', 'orange']\n"
     ]
    }
   ],
   "source": [
    "#7\n",
    "list=[\"apple\", \"banana\", \"cherry\"]\n",
    "list[0]=\"kiwi\"\n",
    "print(list)\n"
   ]
  },
  {
   "cell_type": "code",
   "execution_count": 34,
   "metadata": {},
   "outputs": [
    {
     "name": "stdout",
     "output_type": "stream",
     "text": [
      "['apple', 'banana', 'cherry', 'orange']\n"
     ]
    }
   ],
   "source": [
    "#8\n",
    "list=[\"apple\", \"banana\", \"cherry\"]\n",
    "list.append(\"orange\")\n",
    "print(list)"
   ]
  },
  {
   "cell_type": "code",
   "execution_count": 39,
   "metadata": {},
   "outputs": [
    {
     "name": "stdout",
     "output_type": "stream",
     "text": [
      "['apple', 'lemon', 'banana', 'cherry']\n"
     ]
    }
   ],
   "source": [
    "#9\n",
    "list=[\"apple\", \"banana\", \"cherry\"]\n",
    "list.insert(1,\"lemon\")\n",
    "print(list)"
   ]
  },
  {
   "cell_type": "code",
   "execution_count": 41,
   "metadata": {},
   "outputs": [
    {
     "data": {
      "text/plain": [
       "['apple', 'cherry']"
      ]
     },
     "execution_count": 41,
     "metadata": {},
     "output_type": "execute_result"
    }
   ],
   "source": [
    "#10\n",
    "list=[\"apple\", \"banana\", \"cherry\"]\n",
    "list.remove(\"banana\")\n",
    "list"
   ]
  },
  {
   "cell_type": "code",
   "execution_count": 43,
   "metadata": {},
   "outputs": [
    {
     "name": "stdout",
     "output_type": "stream",
     "text": [
      "['kiwi', 'melon']\n"
     ]
    }
   ],
   "source": [
    "#11\n",
    "list=[\"apple\", \"banana\", \"cherry\", \"orange\", \"kiwi\", \"melon\", \"mango\"]\n",
    "print(list[-3:-1])"
   ]
  },
  {
   "cell_type": "code",
   "execution_count": 46,
   "metadata": {},
   "outputs": [
    {
     "name": "stdout",
     "output_type": "stream",
     "text": [
      "['cherry', 'orange', 'kiwi']\n"
     ]
    }
   ],
   "source": [
    "#12\n",
    "list=[\"apple\", \"banana\", \"cherry\", \"orange\", \"kiwi\", \"melon\", \"mango\"]\n",
    "print(list[2:5])"
   ]
  },
  {
   "cell_type": "code",
   "execution_count": 47,
   "metadata": {},
   "outputs": [
    {
     "name": "stdout",
     "output_type": "stream",
     "text": [
      "7\n"
     ]
    }
   ],
   "source": [
    "#13\n",
    "list=[\"apple\", \"banana\", \"cherry\", \"orange\", \"kiwi\", \"melon\", \"mango\"]\n",
    "print(len(list))"
   ]
  },
  {
   "cell_type": "code",
   "execution_count": 54,
   "metadata": {},
   "outputs": [
    {
     "name": "stdout",
     "output_type": "stream",
     "text": [
      "['mango', 'melon', 'kiwi', 'orange', 'cherry', 'banana', 'apple']\n"
     ]
    }
   ],
   "source": [
    "#14\n",
    "list=[\"apple\", \"banana\", \"cherry\", \"orange\", \"kiwi\", \"melon\", \"mango\"]\n",
    "list.reverse()\n",
    "print(list)"
   ]
  },
  {
   "cell_type": "code",
   "execution_count": 64,
   "metadata": {},
   "outputs": [],
   "source": [
    "#15\n",
    "import datetime as dt\n",
    "now=dt.datetime.now"
   ]
  },
  {
   "cell_type": "code",
   "execution_count": 70,
   "metadata": {},
   "outputs": [
    {
     "name": "stdout",
     "output_type": "stream",
     "text": [
      "Hello Jackson! Happy Thursday!\n"
     ]
    }
   ],
   "source": [
    "#16\n",
    "name=\"Jackson\"\n",
    "day=\"Thursday\"\n",
    "\n",
    "print(\"Hello \"+name+\"! \"+\"Happy \"+day+\"!\")"
   ]
  },
  {
   "cell_type": "code",
   "execution_count": 72,
   "metadata": {},
   "outputs": [
    {
     "name": "stdout",
     "output_type": "stream",
     "text": [
      "Error\n",
      "done\n"
     ]
    }
   ],
   "source": [
    "#17\n",
    "try:\n",
    "    print(a)\n",
    "except:\n",
    "    print(\"Error\")\n",
    "else:\n",
    "    print(\"Hi\")\n",
    "finally:\n",
    "    print(\"done\")"
   ]
  }
 ],
 "metadata": {
  "kernelspec": {
   "display_name": "Python 3",
   "language": "python",
   "name": "python3"
  },
  "language_info": {
   "codemirror_mode": {
    "name": "ipython",
    "version": 3
   },
   "file_extension": ".py",
   "mimetype": "text/x-python",
   "name": "python",
   "nbconvert_exporter": "python",
   "pygments_lexer": "ipython3",
   "version": "3.12.4"
  }
 },
 "nbformat": 4,
 "nbformat_minor": 2
}
