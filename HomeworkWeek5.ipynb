{
 "cells": [
  {
   "cell_type": "code",
   "execution_count": 7,
   "metadata": {},
   "outputs": [
    {
     "name": "stdout",
     "output_type": "stream",
     "text": [
      "[[[ 1  2  3]\n",
      "  [ 4  5  6]]\n",
      "\n",
      " [[ 7  8  9]\n",
      "  [10 11 12]]]\n"
     ]
    }
   ],
   "source": [
    "#7\n",
    "import numpy as np\n",
    "arr1=np.array([[[1,2],[3,4],[5,6]]])\n",
    "arr2 = np.array([[[7,8],[9,10],[11,12]]])\n",
    "arr3=np.concatenate((arr1,arr2))\n",
    "arr3=np.reshape(arr3,(2,2,3))\n",
    "print(arr3)\n"
   ]
  },
  {
   "cell_type": "code",
   "execution_count": 8,
   "metadata": {},
   "outputs": [
    {
     "name": "stdout",
     "output_type": "stream",
     "text": [
      "[ 0.  4.  8. 12. 16. 20.]\n"
     ]
    }
   ],
   "source": [
    "\n",
    "#8\n",
    "linear=np.linspace(0,20,6)\n",
    "print(linear)\n",
    "\n",
    "#9\n",
    "import copy\n",
    "copy_linear=copy.deepcopy(linear)\n"
   ]
  },
  {
   "cell_type": "code",
   "execution_count": 9,
   "metadata": {},
   "outputs": [
    {
     "name": "stdout",
     "output_type": "stream",
     "text": [
      "[[25 16]\n",
      " [11  2]\n",
      " [13  4]\n",
      " [ 7 81]\n",
      " [ 5  6]\n",
      " [11 12]]\n",
      "[[16 25]\n",
      " [ 2 11]\n",
      " [ 4 13]\n",
      " [ 7 81]\n",
      " [ 5  6]\n",
      " [11 12]]\n"
     ]
    }
   ],
   "source": [
    "#10\n",
    "newArray=np.concatenate((([[25, 16]]),([[11, 2], [13, 4]]),([[7, 81], [5, 6], [11, 12]])),axis=0)\n",
    "print(newArray)\n",
    "## 11\n",
    "newArray=np.sort(newArray)\n",
    "print(newArray)"
   ]
  },
  {
   "cell_type": "code",
   "execution_count": 10,
   "metadata": {},
   "outputs": [
    {
     "name": "stdout",
     "output_type": "stream",
     "text": [
      "[1 2 3]\n",
      "[4 5 6]\n",
      "[7 8 9]\n",
      "[10 11 12]\n"
     ]
    }
   ],
   "source": [
    "#12\n",
    "arr3=np.reshape(arr3,(2,2,3))\n",
    "a,b = arr3\n",
    "small, medium = a\n",
    "large, xl = b\n",
    "print(small)\n",
    "print(medium)\n",
    "print(large)\n",
    "print(xl)\n"
   ]
  },
  {
   "cell_type": "code",
   "execution_count": 11,
   "metadata": {},
   "outputs": [
    {
     "name": "stdout",
     "output_type": "stream",
     "text": [
      "[ 0  1  2  3  4  5  6  7 10 11 12 13 14 15 16 17 20 21 22 23 24 25 26 27]\n",
      "1\n",
      "[ 2  3  4  5  6  7 10 11 12 13 14 15 16 17 20 21 22 23 24 25 26 27]\n"
     ]
    }
   ],
   "source": [
    "#13\n",
    "one = ([10, 11, 12, 13, 14, 15, 16, 17])\n",
    "two = ([20, 21, 22, 23, 24, 25, 26, 27])\n",
    "three = ([ 0, 1, 2, 3, 4, 5, 6, 7])\n",
    "comboArray=np.concatenate((one,two,three))\n",
    "comboArray=np.sort(comboArray)\n",
    "print(comboArray)\n",
    "\n",
    "#14\n",
    "sec1=comboArray[1]\n",
    "print(sec1)\n",
    "\n",
    "sec2=comboArray[2:]\n",
    "print(sec2)\n"
   ]
  },
  {
   "cell_type": "code",
   "execution_count": 12,
   "metadata": {},
   "outputs": [
    {
     "name": "stdout",
     "output_type": "stream",
     "text": [
      "[ 3  4  5  6  7 10 11 12 13 14 15]\n",
      "[22 23 24 25 26 27]\n",
      "[ 0  1  2  3  4  5  6  7 10 11 12 13 14 15]\n",
      "[20 22 24 26]\n",
      "[27]\n"
     ]
    }
   ],
   "source": [
    "\n",
    "sec3=comboArray[3:14]\n",
    "print(sec3)\n",
    "\n",
    "sec4=comboArray[-6:]\n",
    "print(sec4)\n",
    "\n",
    "sec5=comboArray[:-10]\n",
    "print(sec5)\n",
    "\n",
    "sec6=comboArray[16::2]\n",
    "print(sec6)\n",
    "\n",
    "sec7=comboArray[-1::5]\n",
    "print(sec7)"
   ]
  },
  {
   "cell_type": "code",
   "execution_count": 13,
   "metadata": {},
   "outputs": [
    {
     "name": "stdout",
     "output_type": "stream",
     "text": [
      "  Ingredients  Quantity   Unit\n",
      "0       Flour         4   cups\n",
      "1        Milk         1    cup\n",
      "2        Eggs         2  large\n",
      "3        Spam         1    can\n"
     ]
    }
   ],
   "source": [
    "#15\n",
    "import pandas as pd\n",
    "ingredients = pd.Series([\"Flour\",\"Milk\",\"Eggs\",\"Spam\"],name=\"Ingredients\")\n",
    "quantity = pd.Series([4,1,2,1],name=\"Quantity\")\n",
    "unit=pd.Series([\"cups\",\"cup\",\"large\",\"can\"],name=\"Unit\")\n",
    "dinner = pd.concat([ingredients,quantity,unit],axis=1)\n",
    "print(dinner)"
   ]
  },
  {
   "cell_type": "code",
   "execution_count": 18,
   "metadata": {},
   "outputs": [
    {
     "name": "stdout",
     "output_type": "stream",
     "text": [
      "      Name  Height Qualification  Address  Age        Pets Sport\n",
      "0      Jai     5.1           Msc    Delhi   21         Dog   NaN\n",
      "1  janusha     6.2            MA     Doha   23       Bunny   NaN\n",
      "2   Gaurav     5.1           Msc  Chennai   24  Chinchilla   NaN\n",
      "3     Anuj     5.2           Msc   Dakhar   21      Parrot   NaN\n"
     ]
    }
   ],
   "source": [
    "#16\n",
    "studentData= {'Name': ['Jai', 'janusha', 'Gaurav', 'Anuj'],\n",
    "            'Height': [5.1, 6.2, 5.1, 5.2],\n",
    "            'Qualification': ['Msc', 'MA', 'Msc', 'Msc'],\n",
    "            'Address': ['Delhi', 'Doha', 'Chennai', 'Dakhar'],\n",
    "            'Age': [21, 23, 24, 21],\n",
    "            'Pets': ['Dog', 'Bunny', 'Chinchilla', 'Parrot'],\n",
    "            'sport': ['Darts', 'Basketball', 'PaddleBoarding', 'Cricket']\n",
    "        }\n",
    "studentData=pd.DataFrame(studentData,columns=['Name','Height','Qualification','Address','Age','Pets','Sport'])\n",
    "print(studentData)"
   ]
  },
  {
   "cell_type": "code",
   "execution_count": 21,
   "metadata": {},
   "outputs": [
    {
     "name": "stdout",
     "output_type": "stream",
     "text": [
      "      Name  Height Qualification  Address  Age        Pets Sport      Desserts\n",
      "1  janusha     6.2            MA     Doha   23       Bunny   NaN     ice cream\n",
      "0      Jai     5.1           Msc    Delhi   21         Dog   NaN  Cashew Fudge\n",
      "2   Gaurav     5.1           Msc  Chennai   24  Chinchilla   NaN       waffels\n",
      "3     Anuj     5.2           Msc   Dakhar   21      Parrot   NaN  Carrot Halwa\n"
     ]
    }
   ],
   "source": [
    "#17\n",
    "Desserts=[\"ice cream\", \"Cashew Fudge\", \"waffels\", \"Carrot Halwa\"]\n",
    "studentData['Desserts']=Desserts\n",
    "print(studentData)\n",
    "\n",
    "#18\n",
    "studentData.sort_values(by = ['Name', 'Address'],\n",
    "                ascending = [True, True], inplace = True)"
   ]
  },
  {
   "cell_type": "code",
   "execution_count": 31,
   "metadata": {},
   "outputs": [],
   "source": [
    "#19\n",
    "df = pd.DataFrame({'Cows': [12, 20], 'Goats': [22, 19]}, index=['Year 1', 'Year 2'])\n",
    "\n",
    "\n",
    "df.to_csv('cows_and_goats.csv', index=False)"
   ]
  },
  {
   "cell_type": "code",
   "execution_count": 38,
   "metadata": {},
   "outputs": [
    {
     "name": "stdout",
     "output_type": "stream",
     "text": [
      "       Name   Color  AmountEaten\n",
      "0    Carrot  Orange           10\n",
      "1  Broccoli   Green            8\n",
      "2      Peas   Green            5\n"
     ]
    }
   ],
   "source": [
    "#20\n",
    "vegetables = ({\"Name\":[\"Carrot\",\"Broccoli\",\"Peas\"],\n",
    "                \"Color\":[\"Orange\",\"Green\",\"Green\"],\n",
    "                \"AmountEaten\":[10,8,5]})\n",
    "Veggies=pd.DataFrame(vegetables,columns=['Name','Color','AmountEaten'])\n",
    "print(Veggies)\n",
    "\n",
    "Veggies.to_csv('vegetables.csv', index=False)\n",
    "Vegetables=pd.read_csv('vegetables.csv')\n",
    "Ranking =[2,1,3]\n",
    "Veggies.to_csv('vegetables_new.csv', index=False)\n",
    "\n"
   ]
  }
 ],
 "metadata": {
  "kernelspec": {
   "display_name": "Python 3",
   "language": "python",
   "name": "python3"
  },
  "language_info": {
   "codemirror_mode": {
    "name": "ipython",
    "version": 3
   },
   "file_extension": ".py",
   "mimetype": "text/x-python",
   "name": "python",
   "nbconvert_exporter": "python",
   "pygments_lexer": "ipython3",
   "version": "3.12.4"
  }
 },
 "nbformat": 4,
 "nbformat_minor": 2
}
