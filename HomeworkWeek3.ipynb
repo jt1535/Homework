{
 "cells": [
  {
   "cell_type": "code",
   "execution_count": 8,
   "metadata": {},
   "outputs": [
    {
     "name": "stdout",
     "output_type": "stream",
     "text": [
      "Jackson\n",
      "Burritos\n",
      "Data Scientist\n"
     ]
    }
   ],
   "source": [
    "list1=(\"\"\"Jackson\n",
    "Burritos\n",
    "Data Scientist\"\"\")\n",
    "print(list1)"
   ]
  },
  {
   "cell_type": "code",
   "execution_count": 15,
   "metadata": {},
   "outputs": [],
   "source": [
    "var1=(\"Hello\")\n",
    "var2={\"a\",\"b\",\"c\"}\n",
    "var3=5\n",
    "var4=10.2\n",
    "var5=[\"a\",\"b\",\"c\"]"
   ]
  },
  {
   "cell_type": "code",
   "execution_count": 17,
   "metadata": {},
   "outputs": [
    {
     "name": "stdout",
     "output_type": "stream",
     "text": [
      "5\n",
      "l\n"
     ]
    }
   ],
   "source": [
    "print(len(var1))\n",
    "print(var1[3])\n",
    "\n"
   ]
  },
  {
   "cell_type": "code",
   "execution_count": 20,
   "metadata": {},
   "outputs": [
    {
     "name": "stdout",
     "output_type": "stream",
     "text": [
      "ing Data Analytics\n"
     ]
    }
   ],
   "source": [
    "Savvy =(\"Learning Data Analytics and Python is Awesome!\")\n",
    "print(Savvy[5:23])"
   ]
  },
  {
   "cell_type": "code",
   "execution_count": 24,
   "metadata": {},
   "outputs": [
    {
     "name": "stdout",
     "output_type": "stream",
     "text": [
      "Learning Data Analytics and Python is great!\n"
     ]
    }
   ],
   "source": [
    "Savvy=Savvy.replace(\"Awesome\",\"great\")\n",
    "print(Savvy)"
   ]
  },
  {
   "cell_type": "code",
   "execution_count": 27,
   "metadata": {},
   "outputs": [
    {
     "data": {
      "text/plain": [
       "28"
      ]
     },
     "execution_count": 27,
     "metadata": {},
     "output_type": "execute_result"
    }
   ],
   "source": [
    "Savvy.find(\"Python\")"
   ]
  },
  {
   "cell_type": "code",
   "execution_count": 43,
   "metadata": {},
   "outputs": [
    {
     "name": "stdout",
     "output_type": "stream",
     "text": [
      "Hi my name is Jackson, I am 6 foot 1 and 22 years old today.\n",
      "22.0\n"
     ]
    }
   ],
   "source": [
    "name, length, age = (\"Jackson\",\"6 foot 1\",\"22 years\")\n",
    "miniBio = (\"Hi my name is \"+ name +\", I am \"+length+ \" and \"+age+\" old today.\")\n",
    "print(miniBio)\n",
    "age=float(22)\n",
    "print(age)"
   ]
  },
  {
   "cell_type": "code",
   "execution_count": 90,
   "metadata": {},
   "outputs": [
    {
     "name": "stdout",
     "output_type": "stream",
     "text": [
      "[1, 'a', 'Banana', 10.0, 64]\n",
      "[1, 'a', 'Banana', 10.0, 64, 10, 'Apple', 6]\n",
      "8\n",
      "[1, 'a', 'Banana']\n",
      "[10.0, 64, 10, 'Apple', 6, 1, 'a', 'Banana']\n",
      "['Friday', 'Monday', 'Thursday', 'Tuesday', 'Wednesday']\n",
      "['Friday', 'Monday', 'Thursday', 'Tuesday', 'Wednesday']\n",
      "['Friday', 'Monday', 'Thursday', 'Tuesday', 'Wednesday', 'Friday', 'Monday', 'Thursday', 'Tuesday', 'Wednesday']\n"
     ]
    }
   ],
   "source": [
    "## Replace a part of it with something else\n",
    "\n",
    "list=[1,\"a\", \"Banana\",10.0, 105]\n",
    "list[4]=64\n",
    "print(list)\n",
    "\n",
    "## Append or insert several more items to the list\n",
    "list2=[10,\"Apple\", 6]\n",
    "\n",
    "list.extend(list2)\n",
    "print(list)\n",
    "\n",
    "##  Find and print the length of the list\n",
    "print(len(list))\n",
    "\n",
    "## Slice a sub-section of the 1st list, and save it to a different 2nd list\n",
    "list3=list[0:3]\n",
    "del list [0:3]\n",
    "\n",
    "## Print the 2nd list\n",
    "\n",
    "print(list3)\n",
    "\n",
    "## Extend your original list with the 2nd list sliced above\n",
    "\n",
    "list.extend(list3)\n",
    "print(list)\n",
    "\n",
    "## Create a new list called \"simList\" containing at least 5 elements of the same data type, either string, integer, float, or Boolean\n",
    "## Sort \"simList\", and print the list\n",
    "simList = [\"Monday\",\"Tuesday\", \"Wednesday\",\"Thursday\",\"Friday\"]\n",
    "simList.sort()\n",
    "print(simList)\n",
    "\n",
    "## Sort \"simList\", and print the list\n",
    "simList2 = simList.copy()\n",
    "print(simList2)\n",
    "\n",
    "##Copy the \"simList\" list to another 3rd list\n",
    "  ##  - Add the 2nd and 3rd lists together into a 4th list\n",
    "simList3=(simList + simList2)\n",
    "print(simList3)"
   ]
  },
  {
   "cell_type": "code",
   "execution_count": 104,
   "metadata": {},
   "outputs": [
    {
     "name": "stdout",
     "output_type": "stream",
     "text": [
      "b\n",
      "['a', 'a', 'a', 'b', 'b', 'b', 'c', 'c', 'c', 'd', 'd', 'd', 'e', 'e', 'e']\n",
      "('a', 'b', 'c', 'd')\n",
      "50\n",
      "('a', 'b', 'c', 'd', 'e', 'a', 'b', 'c', 'd', 'e', 'a', 'b', 'c', 'd', 'e', 'a', 'b', 'c', 'd')\n"
     ]
    }
   ],
   "source": [
    "##11\n",
    "tuple=(\"a\",\"b\",\"c\",\"d\",\"e\")\n",
    "tuple2= tuple * 3\n",
    "print(tuple2[11])\n",
    "\n",
    "print(sorted(tuple2))\n",
    "\n",
    "tuple3 = tuple2[0:4]\n",
    "print(tuple3)\n",
    "var1, var2, var3, var4 = tuple2[0:4]\n",
    "tuple4=(50)\n",
    "print(tuple4)\n",
    "tuple5 = tuple2 + tuple3\n",
    "print(tuple5)\n"
   ]
  },
  {
   "cell_type": "code",
   "execution_count": 133,
   "metadata": {},
   "outputs": [
    {
     "name": "stdout",
     "output_type": "stream",
     "text": [
      "{1, 2, 3, ('Apple', 'Banana')}\n",
      "{'House', 'Bone'}\n",
      "set()\n",
      "{'Dog', 1, 2, 3, 'Bone', 'Tire', ('Apple', 'Banana')}\n"
     ]
    }
   ],
   "source": [
    "##12\n",
    "set={1,2,3}\n",
    "fruits = (\"Apple\", \"Banana\")\n",
    "set.add(fruits)\n",
    "print(set)\n",
    "\n",
    "set.add(\"Tire\")\n",
    "set2={\"Dog\",\"Bone\",\"House\"}\n",
    "set3=set.union(set2)\n",
    "set2.pop()\n",
    "print(set2)\n",
    "set.clear()\n",
    "print(set)\n",
    "\n",
    "set3.discard(\"House\")\n",
    "print(set3)"
   ]
  },
  {
   "cell_type": "code",
   "execution_count": 169,
   "metadata": {},
   "outputs": [
    {
     "name": "stdout",
     "output_type": "stream",
     "text": [
      "5\n",
      "{'b': 'Jackson', 'c': 'Hello', 'd': 10.0, 'e': 'Blue', 'f': (1, 2, 3)}\n",
      "{}\n"
     ]
    }
   ],
   "source": [
    "##13\n",
    "dict1={\"a\":5,\"b\":\"TRUE\",\"c\":\"Hello\",\"d\":10.0,\"e\":\"Hi\"}\n",
    "print(dict1.get(\"a\"))\n",
    "dict1.update({\"b\" : \"Jackson\"})\n",
    "dict1.update({\"e\":\"Blue\"})\n",
    "dict1.update({\"f\":(1,2,3)})\n",
    "dict1.keys()\n",
    "dict1.values()\n",
    "dict2=dict1.copy()\n",
    "dict2.pop(\"a\")\n",
    "print(dict2)\n",
    "dict2.clear()\n",
    "print(dict2)"
   ]
  }
 ],
 "metadata": {
  "kernelspec": {
   "display_name": "Python 3",
   "language": "python",
   "name": "python3"
  },
  "language_info": {
   "codemirror_mode": {
    "name": "ipython",
    "version": 3
   },
   "file_extension": ".py",
   "mimetype": "text/x-python",
   "name": "python",
   "nbconvert_exporter": "python",
   "pygments_lexer": "ipython3",
   "version": "3.12.4"
  }
 },
 "nbformat": 4,
 "nbformat_minor": 2
}
